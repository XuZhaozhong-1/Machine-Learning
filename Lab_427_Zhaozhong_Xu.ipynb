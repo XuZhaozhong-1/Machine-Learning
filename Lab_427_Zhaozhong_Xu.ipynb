{
  "nbformat": 4,
  "nbformat_minor": 0,
  "metadata": {
    "colab": {
      "provenance": []
    },
    "kernelspec": {
      "name": "python3",
      "display_name": "Python 3"
    },
    "language_info": {
      "name": "python"
    }
  },
  "cells": [
    {
      "cell_type": "code",
      "source": [
        "from numpy.ma.core import shape\n",
        "# Import necessary libraries\n",
        "\n",
        "%matplotlib inline\n",
        "import numpy as np\n",
        "import pandas as pd\n",
        "import matplotlib.pyplot as plt\n",
        "# Load the dataset (.csv) using pandas package \n",
        "# Upload the file to Google Drive first and then read data from it in Google Drive\n",
        "from google.colab import drive\n",
        "drive.mount('/content/drive')\n",
        "CMS_calori_dataset = pd.read_csv('/content/drive/My Drive/hgcal.csv')\n",
        "\n",
        "# .head directive on the panda dataframe displays the first n-rows\n",
        "\n",
        "CMS_calori_dataset.head(n = 10)\n",
        "# Convert the panda dataframe into numpy 2D array\n",
        "CMS_calori_dataset_np = CMS_calori_dataset.to_numpy()\n",
        "# The converted numpy array has the dimension of 420 (rows) x 8 (columns)\n",
        "print(CMS_calori_dataset_np.shape)\n",
        "# Extract only x, y, z, eta, phi and energy columns from the dataset and stack them along column direction\n",
        "# Name this new 2D array CMS_calori_dataset_np_sub. \n",
        "CMS_calori_dataset_np_sub=CMS_calori_dataset_np[:,1:7]\n",
        "# The array should have dimension 420 (rows) x 6 (columns)\n",
        "print(CMS_calori_dataset_np_sub.shape)\n",
        "\n",
        "# Create the scaling function\n",
        "def scale_data(arr):\n",
        "  scaled_data=np.empty_like(arr)\n",
        "  #Use i to iterate over all columns.\n",
        "  for i in range(arr.shape[1]):\n",
        "  #Standard scaling of all columns  \n",
        "    mean = np.mean(arr[:, i])\n",
        "    std = np.std(arr[:, i])\n",
        "    scaled_data[:, i] = (arr[:, i] - mean) / std\n",
        "\n",
        "  return scaled_data\n",
        "# Test the function with CMS_calori_dataset_np_sub\n",
        "CMS_calori_dataset_np_sub_scaled = scale_data(CMS_calori_dataset_np_sub)\n",
        "\n",
        "print(CMS_calori_dataset_np_sub_scaled)\n",
        "\n",
        "# Confirm the data is scaled for 'x' column\n",
        "plt.figure(figsize = (10, 5))\n",
        "plt.hist(CMS_calori_dataset_np_sub_scaled[:, 0], bins = 20, facecolor = 'grey', edgecolor = 'black', linewidth = 2)\n",
        "plt.xticks(fontsize=14)\n",
        "plt.yticks(fontsize=14)\n",
        "# Add proper x-label and y-label \n",
        "x=plt.xlabel(\"Scaled'x'\",fontsize=16)\n",
        "y=plt.ylabel('y',fontsize=16)\n",
        "plt.show()\n",
        "# Confirm the data is scaled for 'energy' column\n",
        "plt.figure(figsize = (10, 5))\n",
        "\n",
        "plt.hist(CMS_calori_dataset_np_sub_scaled[:, 5], bins = 20, facecolor = 'grey', edgecolor = 'black', linewidth = 2)\n",
        "plt.xticks(fontsize=14)\n",
        "plt.yticks(fontsize=14)\n",
        "# Add proper x-label and y-label\n",
        "x=plt.xlabel(\"Scaled'energy'\",fontsize=16)\n",
        "y=plt.ylabel('y',fontsize=16)\n",
        "plt.show() \n",
        "# Create the splitting function\n",
        "def split_data(arr, split_proportions, axis):\n",
        "  # Convert to numpy array\n",
        "  array=np.array(split_proportions)\n",
        "  # Get the length of the splitting axis\n",
        "  n = arr.shape[axis]\n",
        "  # Calculate the cumulative sum and multiply by the axis length to get the split points\n",
        "  array1 = np.cumsum(array) * n\n",
        "  # Drop the last element and convert to integer list\n",
        "  indices = list(array1[:-1].astype(int))\n",
        "  split_data = np.split(arr, indices, axis=axis)\n",
        "\n",
        "  # Returns a list of numpy sub-arrays according to split proportions\n",
        "  return split_data\n",
        "  # Test your split function against scaled CMS Calorimieter dataset from exercise 1\n",
        "sub_data_list_1 = split_data(arr = CMS_calori_dataset_np_sub_scaled, split_proportions = [0.6, 0.2, 0.2], axis = 0)\n",
        "# Confirm that dataset has been split into correct shapes\n",
        "# The correct dimensions should be (252, 6) (84, 6) (84, 6)\n",
        "print(sub_data_list_1[0].shape, sub_data_list_1[1].shape, sub_data_list_1[2].shape)\n",
        "# Test your split function against scaled CMS Calorimieter dataset from exercise 1\n",
        "sub_data_list_2 = split_data(arr = CMS_calori_dataset_np_sub_scaled, \n",
        "                                                split_proportions = [0.5, 0.5], axis = 1)\n",
        "# Confirm that dataset has been split into correct shapes\n",
        "# The correct dimensions should be (420, 3) (420, 3)\n",
        "print(sub_data_list_2[0].shape, sub_data_list_2[1].shape)\n",
        "\n",
        "\n",
        "\n"
      ],
      "metadata": {
        "colab": {
          "base_uri": "https://localhost:8080/",
          "height": 883
        },
        "id": "J8Lcc3gpAdao",
        "outputId": "c2f78c85-1950-4833-c3e6-918a71b8777f"
      },
      "execution_count": 153,
      "outputs": [
        {
          "output_type": "stream",
          "name": "stdout",
          "text": [
            "Drive already mounted at /content/drive; to attempt to forcibly remount, call drive.mount(\"/content/drive\", force_remount=True).\n",
            "(420, 8)\n",
            "(420, 6)\n",
            "[[ 1.91214438 -0.51027049 -0.44193343 -0.47341363 -0.31488841 -0.38410307]\n",
            " [-1.64893594  1.11270897 -0.61977219 -0.64676625  1.28785592  0.99873768]\n",
            " [ 1.91214438 -0.51027028 -0.82200995 -0.82011889 -0.31488835 -0.26200369]\n",
            " ...\n",
            " [-0.45937553 -0.84184024  1.01382735  0.95550021 -1.57037143 -0.20325779]\n",
            " [-0.24351375 -0.95259315  1.01382735  0.95550021 -1.3566721  -0.41567962]\n",
            " [ 0.59642074 -0.41902261  1.01382735  0.95550021 -0.39502545  0.64852692]]\n"
          ]
        },
        {
          "output_type": "display_data",
          "data": {
            "text/plain": [
              "<Figure size 720x360 with 1 Axes>"
            ],
            "image/png": "[encoded data removed]"
          },
          "metadata": {
            "needs_background": "light"
          }
        },
        {
          "output_type": "display_data",
          "data": {
            "text/plain": [
              "<Figure size 720x360 with 1 Axes>"
            ],
            "image/png": "[encoded data removed]"
          },
          "metadata": {
            "needs_background": "light"
          }
        },
        {
          "output_type": "stream",
          "name": "stdout",
          "text": [
            "(252, 6) (84, 6) (84, 6)\n",
            "(420, 3) (420, 3)\n"
          ]
        }
      ]
    },
    {
      "cell_type": "code",
      "source": [],
      "metadata": {
        "id": "9p6FjCA2Udwt"
      },
      "execution_count": null,
      "outputs": []
    }
  ]
}