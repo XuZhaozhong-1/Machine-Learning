{
 "cells": [
  {
   "cell_type": "code",
   "execution_count": 25,
   "id": "566b32a9",
   "metadata": {
    "id": "566b32a9"
   },
   "outputs": [],
   "source": [
    "%matplotlib inline\n",
    "\n",
    "import numpy as np\n",
    "import matplotlib.pyplot as plt\n",
    "import torch\n",
    "import pandas as pd\n",
    "import seaborn as sns\n",
    "from sklearn.preprocessing import StandardScaler\n",
    "import glob\n",
    "import tqdm"
   ]
  },
  {
   "cell_type": "markdown",
   "id": "5de4b136",
   "metadata": {
    "id": "5de4b136"
   },
   "source": [
    "### Prepare Data"
   ]
  },
  {
   "cell_type": "code",
   "execution_count": 26,
   "id": "54236276",
   "metadata": {
    "id": "54236276"
   },
   "outputs": [
    {
     "name": "stderr",
     "output_type": "stream",
     "text": [
      "100%|███████████████████████████████████| 30000/30000 [00:18<00:00, 1592.77it/s]\n"
     ]
    }
   ],
   "source": [
    "folder_path = '/Users/xuzhaozhong/Downloads/jets'\n",
    "x_train = []\n",
    "y_train = []\n",
    "\n",
    "for i in tqdm.trange(30000):\n",
    "    formatted_i = \"{:07}\".format(i)\n",
    "    file_path = f\"{folder_path}/event_{formatted_i}.npz\"  # Adjust the file extension if needed\n",
    "    with np.load(file_path) as event:\n",
    "        x_train.append(event['x'])\n",
    "        y_train.append(event['y'])"
   ]
  },
  {
   "cell_type": "code",
   "execution_count": 27,
   "id": "03b82cd9",
   "metadata": {
    "id": "03b82cd9"
   },
   "outputs": [
    {
     "name": "stderr",
     "output_type": "stream",
     "text": [
      "100%|█████████████████████████████████| 30000/30000 [00:00<00:00, 375600.34it/s]\n"
     ]
    }
   ],
   "source": [
    "#Pad each jet by sequentially copying the first row to the last row and repeating the process until 100 rows have been reached\n",
    "x_train_padded = []\n",
    "\n",
    "for i in tqdm.trange(len(x_train)):\n",
    "    padded_item = np.zeros((100, 5))\n",
    "    num_rows = x_train[i].shape[0]\n",
    "    repeat_factor = 100 // num_rows\n",
    "    remaining_rows = 100 % num_rows\n",
    "    \n",
    "    # Repeat the original item 'repeat_factor' times\n",
    "    for j in range(repeat_factor):\n",
    "        padded_item[j*num_rows:(j+1)*num_rows, :] = x_train[i]\n",
    "\n",
    "    # Copy the remaining rows\n",
    "    if remaining_rows > 0:\n",
    "        padded_item[repeat_factor*num_rows:repeat_factor*num_rows + remaining_rows, :] = x_train[i][:remaining_rows]\n",
    "\n",
    "    x_train_padded.append(padded_item)\n",
    "\n",
    "x_train_padded_array = np.array(x_train_padded)\n"
   ]
  },
  {
   "cell_type": "code",
   "execution_count": 28,
   "id": "690d2332",
   "metadata": {
    "id": "690d2332"
   },
   "outputs": [],
   "source": [
    "x_train = x_train_padded_array\n",
    "y_train = np.array(y_train)"
   ]
  },
  {
   "cell_type": "code",
   "execution_count": 29,
   "id": "9a960b53",
   "metadata": {
    "id": "9a960b53"
   },
   "outputs": [
    {
     "name": "stdout",
     "output_type": "stream",
     "text": [
      "(30000, 500)\n"
     ]
    }
   ],
   "source": [
    "x_train = x_train.reshape(-1,100*5)\n",
    "print(x_train.shape)"
   ]
  },
  {
   "cell_type": "code",
   "execution_count": 30,
   "id": "2457db52",
   "metadata": {
    "id": "2457db52"
   },
   "outputs": [],
   "source": [
    "# Scale the dataset according to standard scaling\n",
    "scaler = StandardScaler()\n",
    "x_train = scaler.fit_transform(x_train)"
   ]
  },
  {
   "cell_type": "code",
   "execution_count": 31,
   "id": "ca8477b1",
   "metadata": {
    "id": "ca8477b1"
   },
   "outputs": [
    {
     "name": "stdout",
     "output_type": "stream",
     "text": [
      "(20000, 500) (20000, 5) (5000, 500)\n"
     ]
    }
   ],
   "source": [
    "x_test = x_train[25000:len(x_train)]\n",
    "y_test = y_train[25000:len(x_train)]\n",
    "x_validation=x_train[20000:25000]\n",
    "y_validation=y_train[20000:25000]\n",
    "x_train = x_train[:20000]\n",
    "y_train = y_train[:20000]\n",
    "print(x_train.shape,y_train.shape,x_test.shape)"
   ]
  },
  {
   "cell_type": "markdown",
   "id": "7db842d6",
   "metadata": {},
   "source": [
    "### Define Model"
   ]
  },
  {
   "cell_type": "code",
   "execution_count": 32,
   "id": "20f1211a",
   "metadata": {
    "id": "20f1211a"
   },
   "outputs": [],
   "source": [
    "class DnnClassification(torch.nn.Module):\n",
    "    \n",
    "    def __init__(self, input_dim, hidden_dim1, hidden_dim2 ,hidden_dim3,hidden_dim4, output_dim): # Feel free to add hidden_dim as parameters here\n",
    "        \n",
    "        super(DnnClassification, self).__init__()\n",
    "        \n",
    "        self.layer1=torch.nn.Linear(input_dim,hidden_dim1)\n",
    "        self.layer2=torch.nn.Linear(hidden_dim1,hidden_dim2)\n",
    "        self.layer3=torch.nn.Linear(hidden_dim2,hidden_dim3)\n",
    "        self.layer4=torch.nn.Linear(hidden_dim3,hidden_dim4)\n",
    "        self.layer5=torch.nn.Linear(hidden_dim4,output_dim)\n",
    "        self.dropout=torch.nn.Dropout(p=0.5)\n",
    "    def forward(self, x):\n",
    "        \n",
    "        out = torch.nn.functional.relu(self.layer1(x)) \n",
    "        out = self.dropout(out)\n",
    "        out = torch.nn.functional.relu(self.layer2(out))\n",
    "        out = self.dropout(out)\n",
    "        out = torch.nn.functional.relu(self.layer3(out))\n",
    "        out = self.dropout(out)\n",
    "        out = torch.nn.functional.relu(self.layer4(out))\n",
    "        out = self.dropout(out)\n",
    "        out = self.layer5(out)\n",
    "        out = torch.softmax(out, dim=1)\n",
    "        return out"
   ]
  },
  {
   "cell_type": "markdown",
   "id": "7fc0fc6e",
   "metadata": {
    "id": "7fc0fc6e"
   },
   "source": [
    "### Define Hyperparameters"
   ]
  },
  {
   "cell_type": "code",
   "execution_count": 33,
   "id": "bc9251b9",
   "metadata": {
    "id": "bc9251b9"
   },
   "outputs": [
    {
     "data": {
      "text/plain": [
       "DnnClassification(\n",
       "  (layer1): Linear(in_features=500, out_features=4096, bias=True)\n",
       "  (layer2): Linear(in_features=4096, out_features=4096, bias=True)\n",
       "  (layer3): Linear(in_features=4096, out_features=4096, bias=True)\n",
       "  (layer4): Linear(in_features=4096, out_features=4096, bias=True)\n",
       "  (layer5): Linear(in_features=4096, out_features=5, bias=True)\n",
       "  (dropout): Dropout(p=0.5, inplace=False)\n",
       ")"
      ]
     },
     "execution_count": 33,
     "metadata": {},
     "output_type": "execute_result"
    }
   ],
   "source": [
    "# Initialize our neural network model with input and output dimensions\n",
    "model = DnnClassification(input_dim = 500, output_dim = 5, hidden_dim1 = 4096, hidden_dim2 = 4096,hidden_dim3 = 4096,hidden_dim4 = 4096)\n",
    "device = torch.device( \"mps\"if torch.backends.mps.is_available else\"cpu\")\n",
    "# Define the learning rate and epoch \n",
    "learning_rate = 0.0015\n",
    "epochs = 100\n",
    "batchsize = 4000#(If you are using mini-batch gradient)\n",
    "\n",
    "# Define loss function and optimizer\n",
    "loss_func = torch.nn.CrossEntropyLoss()\n",
    "optimizer = torch.optim.Adam(model.parameters(), lr = learning_rate,weight_decay=0.01)\n",
    "model.to(device)"
   ]
  },
  {
   "cell_type": "markdown",
   "id": "ba181b52",
   "metadata": {
    "id": "ba181b52"
   },
   "source": [
    "### Identify Tracked Values"
   ]
  },
  {
   "cell_type": "code",
   "execution_count": 34,
   "id": "dca17de1",
   "metadata": {
    "id": "dca17de1"
   },
   "outputs": [],
   "source": [
    "validation_accuracy_list = []\n",
    "train_loss_list = []"
   ]
  },
  {
   "cell_type": "markdown",
   "id": "b0d0b025",
   "metadata": {
    "id": "b0d0b025"
   },
   "source": [
    "### Train Model"
   ]
  },
  {
   "cell_type": "code",
   "execution_count": 35,
   "id": "fd6a820c",
   "metadata": {
    "id": "fd6a820c"
   },
   "outputs": [
    {
     "name": "stdout",
     "output_type": "stream",
     "text": [
      "Averaged Training Loss for Epoch  0 :  1.6001798391342164\n",
      "Averaged Training Loss for Epoch  1 :  1.5786407947540284\n",
      "Averaged Training Loss for Epoch  2 :  1.5055526494979858\n",
      "Averaged Training Loss for Epoch  3 :  1.4705716609954833\n",
      "Averaged Training Loss for Epoch  4 :  1.4587130784988402\n",
      "Averaged Training Loss for Epoch  5 :  1.4530029058456422\n",
      "Averaged Training Loss for Epoch  6 :  1.4499403238296509\n",
      "Averaged Training Loss for Epoch  7 :  1.44690899848938\n",
      "Averaged Training Loss for Epoch  8 :  1.4423058032989502\n",
      "Averaged Training Loss for Epoch  9 :  1.435752844810486\n",
      "Averaged Training Loss for Epoch  10 :  1.4251264095306397\n",
      "Averaged Training Loss for Epoch  11 :  1.41172513961792\n",
      "Averaged Training Loss for Epoch  12 :  1.3949040174484253\n",
      "Averaged Training Loss for Epoch  13 :  1.3774001836776733\n",
      "Averaged Training Loss for Epoch  14 :  1.3826246738433838\n",
      "Averaged Training Loss for Epoch  15 :  1.3844324827194214\n",
      "Averaged Training Loss for Epoch  16 :  1.379936122894287\n",
      "Averaged Training Loss for Epoch  17 :  1.3712074279785156\n",
      "Averaged Training Loss for Epoch  18 :  1.3586304664611817\n",
      "Averaged Training Loss for Epoch  19 :  1.398572826385498\n",
      "Averaged Training Loss for Epoch  20 :  1.3676229000091553\n",
      "Averaged Training Loss for Epoch  21 :  1.3280349254608155\n",
      "Averaged Training Loss for Epoch  22 :  1.3276729583740234\n",
      "Averaged Training Loss for Epoch  23 :  1.2955883026123047\n",
      "Averaged Training Loss for Epoch  24 :  1.2727373361587524\n",
      "Averaged Training Loss for Epoch  25 :  1.267666792869568\n",
      "Averaged Training Loss for Epoch  26 :  1.2635631799697875\n",
      "Averaged Training Loss for Epoch  27 :  1.2512696504592895\n",
      "Averaged Training Loss for Epoch  28 :  1.2555115222930908\n",
      "Averaged Training Loss for Epoch  29 :  1.2506726026535033\n",
      "Averaged Training Loss for Epoch  30 :  1.241611623764038\n",
      "Averaged Training Loss for Epoch  31 :  1.2395394563674926\n",
      "Averaged Training Loss for Epoch  32 :  1.2393741130828857\n",
      "Averaged Training Loss for Epoch  33 :  1.2368330240249634\n",
      "Averaged Training Loss for Epoch  34 :  1.2427438735961913\n",
      "Averaged Training Loss for Epoch  35 :  1.2334165811538695\n",
      "Averaged Training Loss for Epoch  36 :  1.2342331647872924\n",
      "Averaged Training Loss for Epoch  37 :  1.2326392650604248\n",
      "Averaged Training Loss for Epoch  38 :  1.2309442520141602\n",
      "Averaged Training Loss for Epoch  39 :  1.2300763130187988\n",
      "Averaged Training Loss for Epoch  40 :  1.2328835248947143\n",
      "Averaged Training Loss for Epoch  41 :  1.237146544456482\n",
      "Averaged Training Loss for Epoch  42 :  1.2394420146942138\n",
      "Averaged Training Loss for Epoch  43 :  1.2290870189666747\n",
      "Averaged Training Loss for Epoch  44 :  1.2304652452468872\n",
      "Averaged Training Loss for Epoch  45 :  1.230272078514099\n",
      "Averaged Training Loss for Epoch  46 :  1.2289631128311158\n",
      "Averaged Training Loss for Epoch  47 :  1.2281426429748534\n",
      "Averaged Training Loss for Epoch  48 :  1.2326199531555175\n",
      "Averaged Training Loss for Epoch  49 :  1.2298704385757446\n",
      "Averaged Training Loss for Epoch  50 :  1.228527879714966\n",
      "Averaged Training Loss for Epoch  51 :  1.2286317110061646\n",
      "Averaged Training Loss for Epoch  52 :  1.2290440797805786\n",
      "Averaged Training Loss for Epoch  53 :  1.2289305448532104\n",
      "Averaged Training Loss for Epoch  54 :  1.2289853811264038\n",
      "Averaged Training Loss for Epoch  55 :  1.2298683881759644\n",
      "Averaged Training Loss for Epoch  56 :  1.2246022462844848\n",
      "Averaged Training Loss for Epoch  57 :  1.2365646839141846\n",
      "Averaged Training Loss for Epoch  58 :  1.2309874296188354\n",
      "Averaged Training Loss for Epoch  59 :  1.2292370319366455\n",
      "Averaged Training Loss for Epoch  60 :  1.223437786102295\n",
      "Averaged Training Loss for Epoch  61 :  1.2209887504577637\n",
      "Averaged Training Loss for Epoch  62 :  1.2244427442550658\n",
      "Averaged Training Loss for Epoch  63 :  1.2240662336349488\n",
      "Averaged Training Loss for Epoch  64 :  1.2246055841445922\n",
      "Averaged Training Loss for Epoch  65 :  1.2241835594177246\n",
      "Averaged Training Loss for Epoch  66 :  1.2242775917053224\n",
      "Averaged Training Loss for Epoch  67 :  1.2199374198913575\n",
      "Averaged Training Loss for Epoch  68 :  1.2216068029403686\n",
      "Averaged Training Loss for Epoch  69 :  1.2250080347061156\n",
      "Averaged Training Loss for Epoch  70 :  1.2246250867843629\n",
      "Averaged Training Loss for Epoch  71 :  1.2282066106796266\n",
      "Averaged Training Loss for Epoch  72 :  1.2266817092895508\n",
      "Averaged Training Loss for Epoch  73 :  1.2296564340591432\n",
      "Averaged Training Loss for Epoch  74 :  1.2266644954681396\n",
      "Averaged Training Loss for Epoch  75 :  1.2229125499725342\n",
      "Averaged Training Loss for Epoch  76 :  1.224266242980957\n",
      "Averaged Training Loss for Epoch  77 :  1.2320955514907836\n",
      "Averaged Training Loss for Epoch  78 :  1.227041244506836\n",
      "Averaged Training Loss for Epoch  79 :  1.2268111944198608\n",
      "Averaged Training Loss for Epoch  80 :  1.2254701852798462\n",
      "Averaged Training Loss for Epoch  81 :  1.2255602121353149\n",
      "Averaged Training Loss for Epoch  82 :  1.226707100868225\n",
      "Averaged Training Loss for Epoch  83 :  1.2314618349075317\n",
      "Averaged Training Loss for Epoch  84 :  1.2282441139221192\n",
      "Averaged Training Loss for Epoch  85 :  1.2302139043807983\n",
      "Averaged Training Loss for Epoch  86 :  1.2284928560256958\n",
      "Averaged Training Loss for Epoch  87 :  1.2240894794464112\n",
      "Averaged Training Loss for Epoch  88 :  1.2247471570968629\n",
      "Averaged Training Loss for Epoch  89 :  1.224003052711487\n",
      "Averaged Training Loss for Epoch  90 :  1.2235629081726074\n",
      "Averaged Training Loss for Epoch  91 :  1.2272034645080567\n",
      "Averaged Training Loss for Epoch  92 :  1.2293176412582398\n",
      "Averaged Training Loss for Epoch  93 :  1.225975751876831\n",
      "Averaged Training Loss for Epoch  94 :  1.2238187313079834\n",
      "Averaged Training Loss for Epoch  95 :  1.221194291114807\n",
      "Averaged Training Loss for Epoch  96 :  1.2178496599197388\n",
      "Averaged Training Loss for Epoch  97 :  1.219320797920227\n",
      "Averaged Training Loss for Epoch  98 :  1.2210024356842042\n",
      "Averaged Training Loss for Epoch  99 :  1.2203021764755249\n"
     ]
    }
   ],
   "source": [
    "import tqdm # For keeping track of our training progress in percentage\n",
    "\n",
    "# Convert the training, validation, testing dataset (NumPy arrays) into torch tensors\n",
    "\n",
    "train_inputs = torch.from_numpy(x_train).float().to(device)\n",
    "train_targets = torch.from_numpy(y_train).long().to(device) # Convert to 64-bit integer\n",
    "x_batch_train = torch.split(train_inputs, batchsize)\n",
    "y_batch_train = torch.split(train_targets, batchsize)\n",
    "batch_split_num = len(x_batch_train)\n",
    "\n",
    "validation_inputs = torch.from_numpy(x_validation).float().to(device)\n",
    "validation_targets = torch.from_numpy(y_validation).long().to(device)\n",
    "\n",
    "testing_inputs = torch.from_numpy(x_test).float().to(device)\n",
    "testing_targets = torch.from_numpy(y_test).long().to(device)\n",
    "\n",
    "# Training Loop ---------------------------------------------------------------------------------------\n",
    "\n",
    "iteration = 0\n",
    "for epoch in range(epochs):  \n",
    "    for i in range(batch_split_num):\n",
    "        optimizer.zero_grad() # Empty the gradient buffer so each learning event per epoch is separate\n",
    "\n",
    "        outputs = model(x_batch_train[i]) # Forward pass the inputs through the network to produce outputs \n",
    "        \n",
    "        y_batch_indices = torch.argmax(y_batch_train[i], dim=1)\n",
    "\n",
    "        loss = loss_func(outputs, y_batch_indices) # Compute the loss via comparing the output with expected targets\n",
    "    \n",
    "        train_loss_list.append(loss.item()) # Save the loss value to train_loss_list we defined\n",
    "    \n",
    "        loss.backward() # Compute how much changes to be made to weights/biases\n",
    "\n",
    "        optimizer.step() # Update the weights/biases according to learning rate\n",
    "        \n",
    "        outputs = model(validation_inputs)\n",
    "        \n",
    "        _, predicted = torch.max(outputs, 1)# Find the index  with the highest probability for each sample\n",
    "        \n",
    "        correct = (predicted == torch.argmax(validation_targets, dim=1)).sum().item()\n",
    "        \n",
    "        total = validation_targets.size(0)\n",
    "        \n",
    "        accuracy = correct / total\n",
    "        \n",
    "        validation_accuracy_list.append(accuracy)  \n",
    "\n",
    "    print(\"Averaged Training Loss for Epoch \", epoch,\": \", np.mean(train_loss_list[-batch_split_num:]))\n",
    "\n"
   ]
  },
  {
   "cell_type": "code",
   "execution_count": 36,
   "id": "e8dac6ff",
   "metadata": {
    "id": "e8dac6ff"
   },
   "outputs": [
    {
     "name": "stdout",
     "output_type": "stream",
     "text": [
      "Accuracy: 0.66\n"
     ]
    }
   ],
   "source": [
    "with torch.no_grad():\n",
    "    outputs = model(validation_inputs)\n",
    "    _, predicted = torch.max(outputs, 1)# Find the index  with the highest probability for each sample\n",
    "    correct = (predicted == torch.argmax(validation_targets, dim=1)).sum().item()\n",
    "    total = validation_targets.size(0)\n",
    "    accuracy = correct / total\n",
    "    print('Accuracy: {:.2f}'.format(accuracy))"
   ]
  },
  {
   "cell_type": "markdown",
   "id": "870d9f1e",
   "metadata": {
    "id": "870d9f1e"
   },
   "source": [
    "### Visualize and Evaluate Model"
   ]
  },
  {
   "cell_type": "code",
   "execution_count": 37,
   "id": "f79c8356",
   "metadata": {
    "id": "f79c8356"
   },
   "outputs": [
    {
     "data": {
      "image/png": "[encoded data removed]",
      "text/plain": [
       "<Figure size 1200x600 with 2 Axes>"
      ]
     },
     "metadata": {},
     "output_type": "display_data"
    }
   ],
   "source": [
    "# Import seaborn for prettier plots\n",
    "\n",
    "import seaborn as sns\n",
    "# Visualize training loss\n",
    "\n",
    "plt.figure(figsize = (12, 6))\n",
    "\n",
    "# Visualize training loss with respect to iterations (1 iteration -> single batch)\n",
    "plt.subplot(2, 1, 1)\n",
    "plt.plot(train_loss_list, linewidth = 3)\n",
    "plt.ylabel(\"training loss\")\n",
    "plt.xlabel(\"iteration\")\n",
    "sns.despine()\n",
    "\n",
    "# Visualize validation accuracy with respect to epochs\n",
    "plt.subplot(2, 1, 2)\n",
    "plt.plot(validation_accuracy_list, linewidth = 3, color = 'gold')\n",
    "plt.ylabel(\"accuracy\")\n",
    "plt.xlabel(\"epoch\")\n",
    "sns.despine()"
   ]
  },
  {
   "cell_type": "code",
   "execution_count": 38,
   "id": "e32be1a1",
   "metadata": {
    "id": "e32be1a1"
   },
   "outputs": [
    {
     "name": "stdout",
     "output_type": "stream",
     "text": [
      "Testing accuracy: 0.6656\n"
     ]
    }
   ],
   "source": [
    "# Compute the testing accuracy \n",
    "\n",
    "with torch.no_grad():        \n",
    "    outputs = model(testing_inputs)\n",
    "    \n",
    "    correct = (torch.argmax(outputs, dim=1) == torch.argmax(testing_targets,dim=1)).type(torch.FloatTensor).to(device)\n",
    "    \n",
    "    test_accuracy = correct.mean().item()\n",
    "    print('Testing accuracy: {:.4f}'.format(test_accuracy))"
   ]
  },
  {
   "cell_type": "code",
   "execution_count": 39,
   "id": "941669bc",
   "metadata": {},
   "outputs": [
    {
     "name": "stdout",
     "output_type": "stream",
     "text": [
      "Accuracy of Gluon: 66.94%\n",
      "Accuracy of Light quark: 60.00%\n",
      "Accuracy of W boson: 68.08%\n",
      "Accuracy of Z boson: 55.78%\n",
      "Accuracy of Top quark: 81.26%\n",
      "The class that the model had the hardest time classifying is: Z boson\n"
     ]
    }
   ],
   "source": [
    "# Define class names for your problem\n",
    "class_names = ['Gluon', 'Light quark', 'W boson', 'Z boson', 'Top quark']\n",
    "\n",
    "# Initialize an empty list to store the accuracy for each class\n",
    "accuracy_1 = []\n",
    "\n",
    "# Calculate the accuracy for each class\n",
    "for i in range(5):\n",
    "    # Find the indices of the samples in the testing set that belong to class i\n",
    "    index = np.where(torch.argmax(testing_targets,dim=1).cpu().numpy() == i)[0]\n",
    "    # Compute the accuracy for class i\n",
    "    class_correct = (torch.argmax(outputs[index], dim=1) == i).type(torch.FloatTensor).to(device)\n",
    "    accuracy_1.append(class_correct.mean().item())\n",
    "    # Print out the accuracy for class i\n",
    "    print('Accuracy of {}: {:.2f}%'.format(class_names[i], accuracy_1[i] * 100))\n",
    "\n",
    "# Find the class that the model had the hardest time classifying\n",
    "hardest_class = class_names[np.argmin(accuracy_1)]\n",
    "print('The class that the model had the hardest time classifying is: {}'.format(hardest_class))\n"
   ]
  },
  {
   "cell_type": "code",
   "execution_count": null,
   "id": "84df703b",
   "metadata": {},
   "outputs": [],
   "source": []
  }
 ],
 "metadata": {
  "colab": {
   "provenance": []
  },
  "kernelspec": {
   "display_name": "Python 3 (ipykernel)",
   "language": "python",
   "name": "python3"
  },
  "language_info": {
   "codemirror_mode": {
    "name": "ipython",
    "version": 3
   },
   "file_extension": ".py",
   "mimetype": "text/x-python",
   "name": "python",
   "nbconvert_exporter": "python",
   "pygments_lexer": "ipython3",
   "version": "3.9.16"
  }
 },
 "nbformat": 4,
 "nbformat_minor": 5
}
