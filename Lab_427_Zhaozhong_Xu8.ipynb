{
 "cells": [
  {
   "cell_type": "code",
   "execution_count": 156,
   "id": "566b32a9",
   "metadata": {
    "id": "566b32a9"
   },
   "outputs": [],
   "source": [
    "%matplotlib inline\n",
    "\n",
    "import numpy as np\n",
    "import matplotlib.pyplot as plt\n",
    "import torch\n",
    "import pandas as pd\n",
    "import seaborn as sns\n",
    "from sklearn.preprocessing import StandardScaler\n",
    "import glob\n",
    "import tqdm"
   ]
  },
  {
   "cell_type": "markdown",
   "id": "5de4b136",
   "metadata": {
    "id": "5de4b136"
   },
   "source": [
    "### Prepare Data"
   ]
  },
  {
   "cell_type": "code",
   "execution_count": 157,
   "id": "54236276",
   "metadata": {
    "id": "54236276"
   },
   "outputs": [
    {
     "name": "stderr",
     "output_type": "stream",
     "text": [
      "100%|███████████████████████████████████| 30000/30000 [00:14<00:00, 2128.81it/s]\n"
     ]
    }
   ],
   "source": [
    "folder_path = '/Users/xuzhaozhong/Downloads/jets'\n",
    "x_train = []\n",
    "y_train = []\n",
    "\n",
    "for i in tqdm.trange(30000):\n",
    "    formatted_i = \"{:07}\".format(i)\n",
    "    file_path = f\"{folder_path}/event_{formatted_i}.npz\"  # Adjust the file extension if needed\n",
    "    with np.load(file_path) as event:\n",
    "        x_train.append(event['x'])\n",
    "        y_train.append(event['y'])"
   ]
  },
  {
   "cell_type": "code",
   "execution_count": 158,
   "id": "03b82cd9",
   "metadata": {
    "id": "03b82cd9"
   },
   "outputs": [
    {
     "name": "stderr",
     "output_type": "stream",
     "text": [
      "100%|█████████████████████████████████| 30000/30000 [00:00<00:00, 532310.36it/s]\n"
     ]
    }
   ],
   "source": [
    "x_train_padded = []\n",
    "\n",
    "for i in tqdm.trange(len(x_train)):\n",
    "    padded_item = np.zeros((200, 5))\n",
    "    num_rows = x_train[i].shape[0]\n",
    "\n",
    "    # Copy the original data into the padded_item\n",
    "    padded_item[:num_rows, :] = x_train[i]\n",
    "\n",
    "    x_train_padded.append(padded_item)\n",
    "\n",
    "x_train_padded_array = np.array(x_train_padded)\n",
    "\n"
   ]
  },
  {
   "cell_type": "code",
   "execution_count": 159,
   "id": "690d2332",
   "metadata": {
    "id": "690d2332"
   },
   "outputs": [],
   "source": [
    "x_train = x_train_padded_array\n",
    "y_train = np.array(y_train)"
   ]
  },
  {
   "cell_type": "code",
   "execution_count": 160,
   "id": "9a960b53",
   "metadata": {
    "id": "9a960b53"
   },
   "outputs": [
    {
     "name": "stdout",
     "output_type": "stream",
     "text": [
      "(30000, 1000)\n"
     ]
    }
   ],
   "source": [
    "x_train = x_train.reshape(-1,200*5)\n",
    "print(x_train.shape)"
   ]
  },
  {
   "cell_type": "code",
   "execution_count": 161,
   "id": "2457db52",
   "metadata": {
    "id": "2457db52"
   },
   "outputs": [
    {
     "name": "stdout",
     "output_type": "stream",
     "text": [
      "(30000, 1, 200, 5)\n"
     ]
    }
   ],
   "source": [
    "# Scale the dataset according to standard scaling\n",
    "scaler = StandardScaler()\n",
    "x_train = scaler.fit_transform(x_train)\n",
    "x_train = x_train.reshape(-1, 1, 200, 5)\n",
    "print(x_train.shape)"
   ]
  },
  {
   "cell_type": "code",
   "execution_count": 162,
   "id": "ca8477b1",
   "metadata": {
    "id": "ca8477b1"
   },
   "outputs": [
    {
     "name": "stdout",
     "output_type": "stream",
     "text": [
      "(20000, 1, 200, 5) (20000, 5) (5000, 1, 200, 5)\n"
     ]
    }
   ],
   "source": [
    "x_test = x_train[25000:len(x_train)]\n",
    "y_test = y_train[25000:len(x_train)]\n",
    "x_validation=x_train[20000:25000]\n",
    "y_validation=y_train[20000:25000]\n",
    "x_train = x_train[:20000]\n",
    "y_train = y_train[:20000]\n",
    "print(x_train.shape,y_train.shape,x_test.shape)"
   ]
  },
  {
   "cell_type": "markdown",
   "id": "7db842d6",
   "metadata": {},
   "source": [
    "### Define Model"
   ]
  },
  {
   "cell_type": "code",
   "execution_count": 163,
   "id": "20f1211a",
   "metadata": {
    "id": "20f1211a"
   },
   "outputs": [],
   "source": [
    "class CNNModel(torch.nn.Module):\n",
    "    def __init__(self):\n",
    "        super(CNNModel, self).__init__()\n",
    "        self.cnn1 = torch.nn.Conv2d(in_channels=1,out_channels=32,kernel_size=9,stride=1,padding=4)\n",
    "        self.maxpool1 = torch.nn.MaxPool2d(kernel_size=2)\n",
    "        self.cnn2 = torch.nn.Conv2d(in_channels=32,out_channels=64,kernel_size=9,stride=1,padding=4)\n",
    "        self.maxpool2 = torch.nn.MaxPool2d(kernel_size=2)\n",
    "        self.fc1 = torch.nn.Linear(64*50*1,5)\n",
    "\n",
    "    def forward(self, x):\n",
    "        conv1_out = torch.nn.functional.relu(self.cnn1(x))\n",
    "        pool1_out = self.maxpool1(conv1_out)\n",
    "        \n",
    "        conv2_out = torch.nn.functional.relu(self.cnn2(pool1_out))\n",
    "        pool2_out = self.maxpool2(conv2_out)\n",
    "        \n",
    "        fc1_input = pool2_out.view(pool2_out.size(0),-1)\n",
    "        out = self.fc1(fc1_input)\n",
    "        return out\n"
   ]
  },
  {
   "cell_type": "markdown",
   "id": "7fc0fc6e",
   "metadata": {
    "id": "7fc0fc6e"
   },
   "source": [
    "### Define Hyperparameters"
   ]
  },
  {
   "cell_type": "code",
   "execution_count": 164,
   "id": "bc9251b9",
   "metadata": {
    "id": "bc9251b9"
   },
   "outputs": [
    {
     "data": {
      "text/plain": [
       "CNNModel(\n",
       "  (cnn1): Conv2d(1, 32, kernel_size=(9, 9), stride=(1, 1), padding=(4, 4))\n",
       "  (maxpool1): MaxPool2d(kernel_size=2, stride=2, padding=0, dilation=1, ceil_mode=False)\n",
       "  (cnn2): Conv2d(32, 64, kernel_size=(9, 9), stride=(1, 1), padding=(4, 4))\n",
       "  (maxpool2): MaxPool2d(kernel_size=2, stride=2, padding=0, dilation=1, ceil_mode=False)\n",
       "  (fc1): Linear(in_features=3200, out_features=5, bias=True)\n",
       ")"
      ]
     },
     "execution_count": 164,
     "metadata": {},
     "output_type": "execute_result"
    }
   ],
   "source": [
    "# Initialize our neural network model with input and output dimensions\n",
    "model = CNNModel()\n",
    "device = torch.device( \"mps\"if torch.backends.mps.is_available else\"cpu\")\n",
    "#device = torch.device(\"cpu\")\n",
    "# Define the learning rate and epoch \n",
    "learning_rate = 0.001\n",
    "epochs = 50\n",
    "batchsize = 2000#(If you are using mini-batch gradient)\n",
    "\n",
    "# Define loss function and optimizer\n",
    "loss_func = torch.nn.CrossEntropyLoss()\n",
    "optimizer = torch.optim.Adam(model.parameters(), lr = learning_rate,weight_decay=0.01)\n",
    "model.to(device)"
   ]
  },
  {
   "cell_type": "markdown",
   "id": "ba181b52",
   "metadata": {
    "id": "ba181b52"
   },
   "source": [
    "### Identify Tracked Values"
   ]
  },
  {
   "cell_type": "code",
   "execution_count": 165,
   "id": "dca17de1",
   "metadata": {
    "id": "dca17de1"
   },
   "outputs": [],
   "source": [
    "validation_accuracy_list = []\n",
    "train_loss_list = []"
   ]
  },
  {
   "cell_type": "markdown",
   "id": "b0d0b025",
   "metadata": {
    "id": "b0d0b025"
   },
   "source": [
    "### Train Model"
   ]
  },
  {
   "cell_type": "code",
   "execution_count": 166,
   "id": "fd6a820c",
   "metadata": {
    "id": "fd6a820c"
   },
   "outputs": [
    {
     "name": "stdout",
     "output_type": "stream",
     "text": [
      "Averaged Training Loss for Epoch  0 :  1.4119691729545594\n",
      "Averaged Training Loss for Epoch  1 :  1.1541939616203307\n",
      "Averaged Training Loss for Epoch  2 :  1.0448987185955048\n",
      "Averaged Training Loss for Epoch  3 :  0.9749958515167236\n",
      "Averaged Training Loss for Epoch  4 :  0.9392392992973327\n",
      "Averaged Training Loss for Epoch  5 :  0.9144829630851745\n",
      "Averaged Training Loss for Epoch  6 :  0.8973813772201538\n",
      "Averaged Training Loss for Epoch  7 :  0.8851095914840699\n",
      "Averaged Training Loss for Epoch  8 :  0.876237541437149\n",
      "Averaged Training Loss for Epoch  9 :  0.8684121608734131\n",
      "Averaged Training Loss for Epoch  10 :  0.8605201601982116\n",
      "Averaged Training Loss for Epoch  11 :  0.8557437062263489\n",
      "Averaged Training Loss for Epoch  12 :  0.8510582983493805\n",
      "Averaged Training Loss for Epoch  13 :  0.8462850034236908\n",
      "Averaged Training Loss for Epoch  14 :  0.8423600614070892\n",
      "Averaged Training Loss for Epoch  15 :  0.837714421749115\n",
      "Averaged Training Loss for Epoch  16 :  0.8335491359233856\n",
      "Averaged Training Loss for Epoch  17 :  0.8297886848449707\n",
      "Averaged Training Loss for Epoch  18 :  0.8261475265026093\n",
      "Averaged Training Loss for Epoch  19 :  0.8235106229782104\n",
      "Averaged Training Loss for Epoch  20 :  0.8210442304611206\n",
      "Averaged Training Loss for Epoch  21 :  0.8187468469142913\n",
      "Averaged Training Loss for Epoch  22 :  0.8163223206996918\n",
      "Averaged Training Loss for Epoch  23 :  0.8135760366916657\n",
      "Averaged Training Loss for Epoch  24 :  0.811642849445343\n",
      "Averaged Training Loss for Epoch  25 :  0.8092813432216645\n",
      "Averaged Training Loss for Epoch  26 :  0.8072543323040009\n",
      "Averaged Training Loss for Epoch  27 :  0.8051989376544952\n",
      "Averaged Training Loss for Epoch  28 :  0.8029792666435241\n",
      "Averaged Training Loss for Epoch  29 :  0.8004387140274047\n",
      "Averaged Training Loss for Epoch  30 :  0.7984149992465973\n",
      "Averaged Training Loss for Epoch  31 :  0.7956917226314545\n",
      "Averaged Training Loss for Epoch  32 :  0.7925722002983093\n",
      "Averaged Training Loss for Epoch  33 :  0.7896265089511871\n",
      "Averaged Training Loss for Epoch  34 :  0.7873677849769593\n",
      "Averaged Training Loss for Epoch  35 :  0.7857326567173004\n",
      "Averaged Training Loss for Epoch  36 :  0.7845218360424042\n",
      "Averaged Training Loss for Epoch  37 :  0.7824663996696473\n",
      "Averaged Training Loss for Epoch  38 :  0.7798013687133789\n",
      "Averaged Training Loss for Epoch  39 :  0.7776390612125397\n",
      "Averaged Training Loss for Epoch  40 :  0.7757213115692139\n",
      "Averaged Training Loss for Epoch  41 :  0.7741061210632324\n",
      "Averaged Training Loss for Epoch  42 :  0.7735507786273956\n",
      "Averaged Training Loss for Epoch  43 :  0.771632331609726\n",
      "Averaged Training Loss for Epoch  44 :  0.7700551211833954\n",
      "Averaged Training Loss for Epoch  45 :  0.7686892867088317\n",
      "Averaged Training Loss for Epoch  46 :  0.7673898100852966\n",
      "Averaged Training Loss for Epoch  47 :  0.7666439771652221\n",
      "Averaged Training Loss for Epoch  48 :  0.7677781999111175\n",
      "Averaged Training Loss for Epoch  49 :  0.7637178838253021\n"
     ]
    }
   ],
   "source": [
    "import tqdm # For keeping track of our training progress in percentage\n",
    "\n",
    "# Convert the training, validation, testing dataset (NumPy arrays) into torch tensors\n",
    "\n",
    "train_inputs = torch.from_numpy(x_train).float().to(device)\n",
    "train_targets = torch.from_numpy(y_train).long().to(device) # Convert to 64-bit integer\n",
    "x_batch_train = torch.split(train_inputs, batchsize)\n",
    "y_batch_train = torch.split(train_targets, batchsize)\n",
    "batch_split_num = len(x_batch_train)\n",
    "\n",
    "validation_inputs = torch.from_numpy(x_validation).float().to(device)\n",
    "validation_targets = torch.from_numpy(y_validation).long().to(device)\n",
    "\n",
    "testing_inputs = torch.from_numpy(x_test).float().to(device)\n",
    "testing_targets = torch.from_numpy(y_test).long().to(device)\n",
    "\n",
    "# Training Loop ---------------------------------------------------------------------------------------\n",
    "\n",
    "iteration = 0\n",
    "for epoch in range(epochs):  \n",
    "    for i in range(batch_split_num):\n",
    "        optimizer.zero_grad() # Empty the gradient buffer so each learning event per epoch is separate\n",
    "\n",
    "        outputs = model(x_batch_train[i]) # Forward pass the inputs through the network to produce outputs \n",
    "        \n",
    "        y_batch_indices = torch.argmax(y_batch_train[i], dim=1)\n",
    "\n",
    "        loss = loss_func(outputs, y_batch_indices) # Compute the loss via comparing the output with expected targets\n",
    "    \n",
    "        train_loss_list.append(loss.item()) # Save the loss value to train_loss_list we defined\n",
    "    \n",
    "        loss.backward() # Compute how much changes to be made to weights/biases\n",
    "\n",
    "        optimizer.step() # Update the weights/biases according to learning rate\n",
    "        \n",
    "        outputs = model(validation_inputs)\n",
    "        \n",
    "        _, predicted = torch.max(outputs, 1)# Find the index  with the highest probability for each sample\n",
    "        \n",
    "        correct = (predicted == torch.argmax(validation_targets, dim=1)).sum().item()\n",
    "        \n",
    "        total = validation_targets.size(0)\n",
    "        \n",
    "        accuracy = correct / total\n",
    "        \n",
    "        validation_accuracy_list.append(accuracy)  \n",
    "\n",
    "    print(\"Averaged Training Loss for Epoch \", epoch,\": \", np.mean(train_loss_list[-batch_split_num:]))\n",
    "\n"
   ]
  },
  {
   "cell_type": "code",
   "execution_count": 167,
   "id": "e8dac6ff",
   "metadata": {
    "id": "e8dac6ff"
   },
   "outputs": [
    {
     "name": "stdout",
     "output_type": "stream",
     "text": [
      "Accuracy: 0.73\n"
     ]
    }
   ],
   "source": [
    "with torch.no_grad():\n",
    "    outputs = model(validation_inputs)\n",
    "    _, predicted = torch.max(outputs, 1)# Find the index  with the highest probability for each sample\n",
    "    correct = (predicted == torch.argmax(validation_targets, dim=1)).sum().item()\n",
    "    total = validation_targets.size(0)\n",
    "    accuracy = correct / total\n",
    "    print('Accuracy: {:.2f}'.format(accuracy))"
   ]
  },
  {
   "cell_type": "markdown",
   "id": "870d9f1e",
   "metadata": {
    "id": "870d9f1e"
   },
   "source": [
    "### Visualize and Evaluate Model"
   ]
  },
  {
   "cell_type": "code",
   "execution_count": 168,
   "id": "f79c8356",
   "metadata": {
    "id": "f79c8356"
   },
   "outputs": [
    {
     "data": {
      "image/png": "[encoded data removed]",
      "text/plain": [
       "<Figure size 1200x600 with 2 Axes>"
      ]
     },
     "metadata": {},
     "output_type": "display_data"
    }
   ],
   "source": [
    "# Import seaborn for prettier plots\n",
    "\n",
    "import seaborn as sns\n",
    "# Visualize training loss\n",
    "\n",
    "plt.figure(figsize = (12, 6))\n",
    "\n",
    "# Visualize training loss with respect to iterations (1 iteration -> single batch)\n",
    "plt.subplot(2, 1, 1)\n",
    "plt.plot(train_loss_list, linewidth = 3)\n",
    "plt.ylabel(\"training loss\")\n",
    "plt.xlabel(\"iteration\")\n",
    "sns.despine()\n",
    "\n",
    "# Visualize validation accuracy with respect to epochs\n",
    "plt.subplot(2, 1, 2)\n",
    "plt.plot(validation_accuracy_list, linewidth = 3, color = 'gold')\n",
    "plt.ylabel(\"accuracy\")\n",
    "plt.xlabel(\"epoch\")\n",
    "sns.despine()"
   ]
  },
  {
   "cell_type": "code",
   "execution_count": 169,
   "id": "e32be1a1",
   "metadata": {
    "id": "e32be1a1"
   },
   "outputs": [
    {
     "name": "stdout",
     "output_type": "stream",
     "text": [
      "Testing accuracy: 0.7328\n"
     ]
    }
   ],
   "source": [
    "# Compute the testing accuracy \n",
    "\n",
    "with torch.no_grad():        \n",
    "    outputs = model(testing_inputs)\n",
    "    \n",
    "    correct = (torch.argmax(outputs, dim=1) == torch.argmax(testing_targets,dim=1)).type(torch.FloatTensor).to(device)\n",
    "    \n",
    "    test_accuracy = correct.mean().item()\n",
    "    print('Testing accuracy: {:.4f}'.format(test_accuracy))"
   ]
  },
  {
   "cell_type": "code",
   "execution_count": 170,
   "id": "941669bc",
   "metadata": {},
   "outputs": [
    {
     "name": "stdout",
     "output_type": "stream",
     "text": [
      "Accuracy of Gluon: 69.02%\n",
      "Accuracy of Light quark: 66.53%\n",
      "Accuracy of W boson: 78.45%\n",
      "Accuracy of Z boson: 72.31%\n",
      "Accuracy of Top quark: 79.73%\n",
      "The class that the model had the hardest time classifying is: Light quark\n"
     ]
    }
   ],
   "source": [
    "# Define class names for your problem\n",
    "class_names = ['Gluon', 'Light quark', 'W boson', 'Z boson', 'Top quark']\n",
    "\n",
    "# Initialize an empty list to store the accuracy for each class\n",
    "accuracy_1 = []\n",
    "\n",
    "# Calculate the accuracy for each class\n",
    "for i in range(5):\n",
    "    # Find the indices of the samples in the testing set that belong to class i\n",
    "    index = np.where(torch.argmax(testing_targets,dim=1).cpu().numpy() == i)[0]\n",
    "    # Compute the accuracy for class i\n",
    "    class_correct = (torch.argmax(outputs[index], dim=1) == i).type(torch.FloatTensor).to(device)\n",
    "    accuracy_1.append(class_correct.mean().item())\n",
    "    # Print out the accuracy for class i\n",
    "    print('Accuracy of {}: {:.2f}%'.format(class_names[i], accuracy_1[i] * 100))\n",
    "    \n",
    "# Find the class that the model had the hardest time classifying\n",
    "hardest_class = class_names[np.argmin(accuracy_1)]\n",
    "print('The class that the model had the hardest time classifying is: {}'.format(hardest_class))\n"
   ]
  },
  {
   "cell_type": "code",
   "execution_count": 171,
   "id": "84df703b",
   "metadata": {},
   "outputs": [
    {
     "name": "stdout",
     "output_type": "stream",
     "text": [
      "Proportion of Gluon: 20.23%\n",
      "Proportion of Light quark: 19.92%\n",
      "Proportion of W boson: 20.05%\n",
      "Proportion of Z boson: 19.77%\n",
      "Proportion of Top quark: 20.03%\n"
     ]
    }
   ],
   "source": [
    "for i in range(5):\n",
    "    # Find the indices of the samples in the testing set that belong to class i\n",
    "    class_proportion = (torch.argmax(train_targets, dim=1) == i).type(torch.FloatTensor).to(device).mean().item()\n",
    "    # Print out the proportion for class i\n",
    "    print('Proportion of {}: {:.2f}%'.format(class_names[i], class_proportion * 100))"
   ]
  },
  {
   "cell_type": "code",
   "execution_count": null,
   "id": "a0a2025c",
   "metadata": {},
   "outputs": [],
   "source": []
  }
 ],
 "metadata": {
  "colab": {
   "provenance": []
  },
  "kernelspec": {
   "display_name": "Python 3 (ipykernel)",
   "language": "python",
   "name": "python3"
  },
  "language_info": {
   "codemirror_mode": {
    "name": "ipython",
    "version": 3
   },
   "file_extension": ".py",
   "mimetype": "text/x-python",
   "name": "python",
   "nbconvert_exporter": "python",
   "pygments_lexer": "ipython3",
   "version": "3.9.16"
  }
 },
 "nbformat": 4,
 "nbformat_minor": 5
}
